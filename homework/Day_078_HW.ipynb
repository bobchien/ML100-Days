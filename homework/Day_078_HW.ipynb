{
 "cells": [
  {
   "cell_type": "markdown",
   "metadata": {},
   "source": [
    "## Work\n",
    "1. 請嘗試將 preproc_x 替換成以每筆資料的 min/max 進行標準化至 -1 ~ 1 間，再進行訓練\n",
    "2. 請嘗試將 mlp 疊更深 (e.g 5~10 層)，進行訓練後觀察 learning curve 的走勢\n",
    "3. (optional) 請改用 GPU 進行訓練 (如果你有 GPU 的話)，比較使用 CPU 與 GPU 的訓練速度"
   ]
  },
  {
   "cell_type": "code",
   "execution_count": 19,
   "metadata": {},
   "outputs": [],
   "source": [
    "import os\n",
    "import keras\n",
    "\n",
    "# 請嘗試設定 GPU：os.environ => 本電腦無GPU"
   ]
  },
  {
   "cell_type": "code",
   "execution_count": 20,
   "metadata": {},
   "outputs": [],
   "source": [
    "train, test = keras.datasets.cifar10.load_data()"
   ]
  },
  {
   "cell_type": "code",
   "execution_count": 21,
   "metadata": {},
   "outputs": [],
   "source": [
    "## 資料前處理\n",
    "import numpy as np\n",
    "def preproc_x(x, flatten=True):\n",
    "    x = (((x - np.min(x)) / (np.max(x) - np.min(x)))-0.5)*2\n",
    "    if flatten:\n",
    "        x = x.reshape((len(x), -1))\n",
    "    return x\n",
    "\n",
    "def preproc_y(y, num=10):\n",
    "    if y.shape[-1] == 1:\n",
    "        y = keras.utils.to_categorical(y, num)\n",
    "    return y"
   ]
  },
  {
   "cell_type": "code",
   "execution_count": 22,
   "metadata": {},
   "outputs": [],
   "source": [
    "x_train, y_train = train\n",
    "x_test, y_test = test\n",
    "\n",
    "# Preproc the inputs\n",
    "x_train = preproc_x(x_train)\n",
    "x_test = preproc_x(x_test)\n",
    "\n",
    "# Preprc the outputs\n",
    "y_train = preproc_y(y_train)\n",
    "y_test = preproc_y(y_test)"
   ]
  },
  {
   "cell_type": "code",
   "execution_count": 23,
   "metadata": {},
   "outputs": [
    {
     "name": "stdout",
     "output_type": "stream",
     "text": [
      "_________________________________________________________________\n",
      "Layer (type)                 Output Shape              Param #   \n",
      "=================================================================\n",
      "input_2 (InputLayer)         (None, 3072)              0         \n",
      "_________________________________________________________________\n",
      "hidden_layer1 (Dense)        (None, 512)               1573376   \n",
      "_________________________________________________________________\n",
      "hidden_layer2 (Dense)        (None, 512)               262656    \n",
      "_________________________________________________________________\n",
      "hidden_layer3 (Dense)        (None, 256)               131328    \n",
      "_________________________________________________________________\n",
      "hidden_layer4 (Dense)        (None, 256)               65792     \n",
      "_________________________________________________________________\n",
      "hidden_layer5 (Dense)        (None, 128)               32896     \n",
      "_________________________________________________________________\n",
      "hidden_layer6 (Dense)        (None, 128)               16512     \n",
      "_________________________________________________________________\n",
      "hidden_layer7 (Dense)        (None, 64)                8256      \n",
      "_________________________________________________________________\n",
      "hidden_layer8 (Dense)        (None, 32)                2080      \n",
      "_________________________________________________________________\n",
      "output (Dense)               (None, 10)                330       \n",
      "=================================================================\n",
      "Total params: 2,093,226\n",
      "Trainable params: 2,093,226\n",
      "Non-trainable params: 0\n",
      "_________________________________________________________________\n"
     ]
    }
   ],
   "source": [
    "def build_mlp(input_shape, output_units=10, num_neurons=[512, 512, 256, 256, 128, 128, 64, 32]):\n",
    "    input_layer = keras.layers.Input(input_shape)\n",
    "    \n",
    "    for i, n_units in enumerate(num_neurons):\n",
    "        if i == 0:\n",
    "            x = keras.layers.Dense(units=n_units, activation=\"relu\", name=\"hidden_layer\"+str(i+1))(input_layer)\n",
    "        else:\n",
    "            x = keras.layers.Dense(units=n_units, activation=\"relu\", name=\"hidden_layer\"+str(i+1))(x)\n",
    "    \n",
    "    out = keras.layers.Dense(units=output_units, activation=\"softmax\", name=\"output\")(x)\n",
    "    \n",
    "    model = keras.models.Model(inputs=[input_layer], outputs=[out])\n",
    "    return model\n",
    "\n",
    "model = build_mlp(x_train.shape[1:])\n",
    "model.summary()"
   ]
  },
  {
   "cell_type": "code",
   "execution_count": 24,
   "metadata": {},
   "outputs": [],
   "source": [
    "## 超參數設定\n",
    "LEARNING_RATE = 0.001\n",
    "EPOCHS = 100\n",
    "BATCH_SIZE = 256"
   ]
  },
  {
   "cell_type": "code",
   "execution_count": 25,
   "metadata": {},
   "outputs": [],
   "source": [
    "optimizer = keras.optimizers.Adam(lr=LEARNING_RATE)\n",
    "model.compile(loss=\"categorical_crossentropy\", metrics=[\"accuracy\"], optimizer=optimizer)"
   ]
  },
  {
   "cell_type": "code",
   "execution_count": 26,
   "metadata": {},
   "outputs": [
    {
     "name": "stderr",
     "output_type": "stream",
     "text": [
      "W0825 23:47:18.524415 4707046848 deprecation.py:323] From /Users/bobchien/anaconda3/lib/python3.7/site-packages/tensorflow/python/ops/math_grad.py:1250: add_dispatch_support.<locals>.wrapper (from tensorflow.python.ops.array_ops) is deprecated and will be removed in a future version.\n",
      "Instructions for updating:\n",
      "Use tf.where in 2.0, which has the same broadcast rule as np.where\n",
      "W0825 23:47:18.611611 4707046848 deprecation_wrapper.py:119] From /Users/bobchien/anaconda3/lib/python3.7/site-packages/keras/backend/tensorflow_backend.py:986: The name tf.assign_add is deprecated. Please use tf.compat.v1.assign_add instead.\n",
      "\n"
     ]
    },
    {
     "name": "stdout",
     "output_type": "stream",
     "text": [
      "Train on 50000 samples, validate on 10000 samples\n",
      "Epoch 1/100\n",
      "50000/50000 [==============================] - 10s 204us/step - loss: 1.7689 - acc: 0.3652 - val_loss: 1.6053 - val_acc: 0.4301\n",
      "Epoch 2/100\n",
      "50000/50000 [==============================] - 9s 182us/step - loss: 1.5206 - acc: 0.4631 - val_loss: 1.5134 - val_acc: 0.4694\n",
      "Epoch 3/100\n",
      "50000/50000 [==============================] - 10s 195us/step - loss: 1.3823 - acc: 0.5142 - val_loss: 1.4317 - val_acc: 0.4941\n",
      "Epoch 4/100\n",
      "50000/50000 [==============================] - 9s 176us/step - loss: 1.2820 - acc: 0.5485 - val_loss: 1.4026 - val_acc: 0.5119\n",
      "Epoch 5/100\n",
      "50000/50000 [==============================] - 8s 170us/step - loss: 1.1949 - acc: 0.5790 - val_loss: 1.3632 - val_acc: 0.5227\n",
      "Epoch 6/100\n",
      "50000/50000 [==============================] - 8s 168us/step - loss: 1.1020 - acc: 0.6126 - val_loss: 1.3549 - val_acc: 0.5340\n",
      "Epoch 7/100\n",
      "50000/50000 [==============================] - 8s 169us/step - loss: 1.0247 - acc: 0.6374 - val_loss: 1.3694 - val_acc: 0.5343\n",
      "Epoch 8/100\n",
      "50000/50000 [==============================] - 8s 170us/step - loss: 0.9353 - acc: 0.6692 - val_loss: 1.4121 - val_acc: 0.5443\n",
      "Epoch 9/100\n",
      "50000/50000 [==============================] - 8s 168us/step - loss: 0.8615 - acc: 0.6968 - val_loss: 1.4520 - val_acc: 0.5477\n",
      "Epoch 10/100\n",
      "50000/50000 [==============================] - 9s 170us/step - loss: 0.7869 - acc: 0.7196 - val_loss: 1.4590 - val_acc: 0.5523\n",
      "Epoch 11/100\n",
      "50000/50000 [==============================] - 9s 170us/step - loss: 0.7096 - acc: 0.7487 - val_loss: 1.5448 - val_acc: 0.5410\n",
      "Epoch 12/100\n",
      "50000/50000 [==============================] - 8s 169us/step - loss: 0.6421 - acc: 0.7741 - val_loss: 1.5438 - val_acc: 0.5473\n",
      "Epoch 13/100\n",
      "50000/50000 [==============================] - 9s 178us/step - loss: 0.5785 - acc: 0.7961 - val_loss: 1.6717 - val_acc: 0.5456\n",
      "Epoch 14/100\n",
      "50000/50000 [==============================] - 9s 170us/step - loss: 0.5194 - acc: 0.8166 - val_loss: 1.7480 - val_acc: 0.5423\n",
      "Epoch 15/100\n",
      "50000/50000 [==============================] - 8s 169us/step - loss: 0.4677 - acc: 0.8349 - val_loss: 1.8265 - val_acc: 0.5397\n",
      "Epoch 16/100\n",
      "50000/50000 [==============================] - 9s 172us/step - loss: 0.4216 - acc: 0.8526 - val_loss: 1.8839 - val_acc: 0.5413\n",
      "Epoch 17/100\n",
      "50000/50000 [==============================] - 9s 174us/step - loss: 0.3752 - acc: 0.8691 - val_loss: 2.1149 - val_acc: 0.5339\n",
      "Epoch 18/100\n",
      "50000/50000 [==============================] - 9s 172us/step - loss: 0.3451 - acc: 0.8803 - val_loss: 2.0332 - val_acc: 0.5376\n",
      "Epoch 19/100\n",
      "50000/50000 [==============================] - 9s 171us/step - loss: 0.3041 - acc: 0.8944 - val_loss: 2.1624 - val_acc: 0.5357\n",
      "Epoch 20/100\n",
      "50000/50000 [==============================] - 9s 171us/step - loss: 0.2921 - acc: 0.8991 - val_loss: 2.1370 - val_acc: 0.5365\n",
      "Epoch 21/100\n",
      "50000/50000 [==============================] - 9s 172us/step - loss: 0.2567 - acc: 0.9114 - val_loss: 2.3457 - val_acc: 0.5405\n",
      "Epoch 22/100\n",
      "50000/50000 [==============================] - 9s 172us/step - loss: 0.2447 - acc: 0.9158 - val_loss: 2.5362 - val_acc: 0.5317\n",
      "Epoch 23/100\n",
      "50000/50000 [==============================] - 9s 177us/step - loss: 0.2226 - acc: 0.9258 - val_loss: 2.5227 - val_acc: 0.5377\n",
      "Epoch 24/100\n",
      "50000/50000 [==============================] - 9s 174us/step - loss: 0.2083 - acc: 0.9290 - val_loss: 2.5254 - val_acc: 0.5408\n",
      "Epoch 25/100\n",
      "50000/50000 [==============================] - 9s 172us/step - loss: 0.2128 - acc: 0.9279 - val_loss: 2.5973 - val_acc: 0.5325\n",
      "Epoch 26/100\n",
      "50000/50000 [==============================] - 9s 173us/step - loss: 0.1920 - acc: 0.9348 - val_loss: 2.6133 - val_acc: 0.5372\n",
      "Epoch 27/100\n",
      "50000/50000 [==============================] - 9s 173us/step - loss: 0.1787 - acc: 0.9399 - val_loss: 2.6251 - val_acc: 0.5373\n",
      "Epoch 28/100\n",
      "50000/50000 [==============================] - 9s 175us/step - loss: 0.1711 - acc: 0.9414 - val_loss: 2.8070 - val_acc: 0.5389\n",
      "Epoch 29/100\n",
      "50000/50000 [==============================] - 9s 174us/step - loss: 0.1505 - acc: 0.9492 - val_loss: 2.6803 - val_acc: 0.5332\n",
      "Epoch 30/100\n",
      "50000/50000 [==============================] - 9s 172us/step - loss: 0.1547 - acc: 0.9463 - val_loss: 2.8671 - val_acc: 0.5384\n",
      "Epoch 31/100\n",
      "50000/50000 [==============================] - 9s 174us/step - loss: 0.1436 - acc: 0.9507 - val_loss: 2.8678 - val_acc: 0.5405\n",
      "Epoch 32/100\n",
      "50000/50000 [==============================] - 9s 172us/step - loss: 0.1392 - acc: 0.9551 - val_loss: 2.8598 - val_acc: 0.5376\n",
      "Epoch 33/100\n",
      "50000/50000 [==============================] - 9s 171us/step - loss: 0.1329 - acc: 0.9562 - val_loss: 2.9658 - val_acc: 0.5373\n",
      "Epoch 34/100\n",
      "50000/50000 [==============================] - 9s 173us/step - loss: 0.1335 - acc: 0.9552 - val_loss: 2.8619 - val_acc: 0.5377\n",
      "Epoch 35/100\n",
      "50000/50000 [==============================] - 9s 172us/step - loss: 0.1313 - acc: 0.9568 - val_loss: 2.8576 - val_acc: 0.5395\n",
      "Epoch 36/100\n",
      "50000/50000 [==============================] - 9s 173us/step - loss: 0.1216 - acc: 0.9614 - val_loss: 2.8689 - val_acc: 0.5351\n",
      "Epoch 37/100\n",
      "50000/50000 [==============================] - 9s 173us/step - loss: 0.1182 - acc: 0.9609 - val_loss: 2.7936 - val_acc: 0.5380\n",
      "Epoch 38/100\n",
      "50000/50000 [==============================] - 9s 173us/step - loss: 0.1108 - acc: 0.9639 - val_loss: 2.9705 - val_acc: 0.5362\n",
      "Epoch 39/100\n",
      "50000/50000 [==============================] - 9s 174us/step - loss: 0.1150 - acc: 0.9626 - val_loss: 2.9260 - val_acc: 0.5394\n",
      "Epoch 40/100\n",
      "50000/50000 [==============================] - 9s 174us/step - loss: 0.1100 - acc: 0.9641 - val_loss: 3.0579 - val_acc: 0.5394\n",
      "Epoch 41/100\n",
      "50000/50000 [==============================] - 9s 175us/step - loss: 0.1054 - acc: 0.9657 - val_loss: 3.0235 - val_acc: 0.5414\n",
      "Epoch 42/100\n",
      "50000/50000 [==============================] - 9s 177us/step - loss: 0.1053 - acc: 0.9657 - val_loss: 3.0532 - val_acc: 0.5397\n",
      "Epoch 43/100\n",
      "50000/50000 [==============================] - 9s 180us/step - loss: 0.1019 - acc: 0.9663 - val_loss: 3.1160 - val_acc: 0.5392\n",
      "Epoch 44/100\n",
      "50000/50000 [==============================] - 11s 217us/step - loss: 0.1010 - acc: 0.9664 - val_loss: 3.0081 - val_acc: 0.5464\n",
      "Epoch 45/100\n",
      "50000/50000 [==============================] - 10s 205us/step - loss: 0.0924 - acc: 0.9695 - val_loss: 3.1461 - val_acc: 0.5399\n",
      "Epoch 46/100\n",
      "50000/50000 [==============================] - 10s 198us/step - loss: 0.0955 - acc: 0.9689 - val_loss: 3.2077 - val_acc: 0.5393\n",
      "Epoch 47/100\n",
      "50000/50000 [==============================] - 10s 201us/step - loss: 0.0890 - acc: 0.9711 - val_loss: 3.0964 - val_acc: 0.5409\n",
      "Epoch 48/100\n",
      "50000/50000 [==============================] - 9s 181us/step - loss: 0.0878 - acc: 0.9715 - val_loss: 3.0770 - val_acc: 0.5361\n",
      "Epoch 49/100\n",
      "50000/50000 [==============================] - 9s 183us/step - loss: 0.0898 - acc: 0.9712 - val_loss: 2.9404 - val_acc: 0.5379\n",
      "Epoch 50/100\n",
      "50000/50000 [==============================] - 10s 198us/step - loss: 0.0874 - acc: 0.9720 - val_loss: 3.0301 - val_acc: 0.5400\n",
      "Epoch 51/100\n",
      "50000/50000 [==============================] - 11s 221us/step - loss: 0.0901 - acc: 0.9715 - val_loss: 2.9445 - val_acc: 0.5287\n",
      "Epoch 52/100\n",
      "50000/50000 [==============================] - 10s 203us/step - loss: 0.0839 - acc: 0.9738 - val_loss: 3.0461 - val_acc: 0.5448\n",
      "Epoch 53/100\n",
      "50000/50000 [==============================] - 11s 214us/step - loss: 0.0820 - acc: 0.9737 - val_loss: 3.0919 - val_acc: 0.5354\n",
      "Epoch 54/100\n",
      "50000/50000 [==============================] - 10s 191us/step - loss: 0.0824 - acc: 0.9736 - val_loss: 3.0607 - val_acc: 0.5333\n",
      "Epoch 55/100\n",
      "50000/50000 [==============================] - 9s 186us/step - loss: 0.0774 - acc: 0.9748 - val_loss: 3.2817 - val_acc: 0.5377\n",
      "Epoch 56/100\n",
      "50000/50000 [==============================] - 10s 194us/step - loss: 0.0756 - acc: 0.9755 - val_loss: 3.2332 - val_acc: 0.5368\n",
      "Epoch 57/100\n",
      "50000/50000 [==============================] - 10s 202us/step - loss: 0.0766 - acc: 0.9755 - val_loss: 3.2904 - val_acc: 0.5390\n",
      "Epoch 58/100\n",
      "50000/50000 [==============================] - 10s 202us/step - loss: 0.0846 - acc: 0.9728 - val_loss: 3.3228 - val_acc: 0.5368\n",
      "Epoch 59/100\n"
     ]
    },
    {
     "name": "stdout",
     "output_type": "stream",
     "text": [
      "50000/50000 [==============================] - 9s 179us/step - loss: 0.0724 - acc: 0.9766 - val_loss: 3.1256 - val_acc: 0.5423\n",
      "Epoch 60/100\n",
      "50000/50000 [==============================] - 9s 179us/step - loss: 0.0721 - acc: 0.9768 - val_loss: 3.2065 - val_acc: 0.5404\n",
      "Epoch 61/100\n",
      "50000/50000 [==============================] - 9s 179us/step - loss: 0.0785 - acc: 0.9753 - val_loss: 3.0873 - val_acc: 0.5387\n",
      "Epoch 62/100\n",
      "50000/50000 [==============================] - 9s 179us/step - loss: 0.0652 - acc: 0.9791 - val_loss: 3.2994 - val_acc: 0.5405\n",
      "Epoch 63/100\n",
      "50000/50000 [==============================] - 9s 182us/step - loss: 0.0818 - acc: 0.9741 - val_loss: 3.2797 - val_acc: 0.5423\n",
      "Epoch 64/100\n",
      "50000/50000 [==============================] - 9s 181us/step - loss: 0.0692 - acc: 0.9778 - val_loss: 3.2397 - val_acc: 0.5383\n",
      "Epoch 65/100\n",
      "50000/50000 [==============================] - 9s 183us/step - loss: 0.0707 - acc: 0.9769 - val_loss: 3.1396 - val_acc: 0.5455\n",
      "Epoch 66/100\n",
      "50000/50000 [==============================] - 9s 182us/step - loss: 0.0648 - acc: 0.9788 - val_loss: 3.1147 - val_acc: 0.5381\n",
      "Epoch 67/100\n",
      "50000/50000 [==============================] - 9s 187us/step - loss: 0.0554 - acc: 0.9825 - val_loss: 3.5031 - val_acc: 0.5406\n",
      "Epoch 68/100\n",
      "50000/50000 [==============================] - 9s 183us/step - loss: 0.0725 - acc: 0.9774 - val_loss: 3.2101 - val_acc: 0.5389\n",
      "Epoch 69/100\n",
      "50000/50000 [==============================] - 9s 187us/step - loss: 0.0832 - acc: 0.9739 - val_loss: 3.2035 - val_acc: 0.5336\n",
      "Epoch 70/100\n",
      "50000/50000 [==============================] - 9s 186us/step - loss: 0.0741 - acc: 0.9756 - val_loss: 3.0912 - val_acc: 0.5350\n",
      "Epoch 71/100\n",
      "50000/50000 [==============================] - 9s 186us/step - loss: 0.0627 - acc: 0.9804 - val_loss: 3.0660 - val_acc: 0.5368\n",
      "Epoch 72/100\n",
      "50000/50000 [==============================] - 9s 187us/step - loss: 0.0588 - acc: 0.9823 - val_loss: 3.1560 - val_acc: 0.5429\n",
      "Epoch 73/100\n",
      "50000/50000 [==============================] - 9s 187us/step - loss: 0.0565 - acc: 0.9822 - val_loss: 3.1534 - val_acc: 0.5402\n",
      "Epoch 74/100\n",
      "50000/50000 [==============================] - 10s 194us/step - loss: 0.0658 - acc: 0.9798 - val_loss: 3.0834 - val_acc: 0.5433\n",
      "Epoch 75/100\n",
      "50000/50000 [==============================] - 9s 189us/step - loss: 0.0642 - acc: 0.9789 - val_loss: 3.0051 - val_acc: 0.5462\n",
      "Epoch 76/100\n",
      "50000/50000 [==============================] - 10s 196us/step - loss: 0.0558 - acc: 0.9822 - val_loss: 3.0548 - val_acc: 0.5475\n",
      "Epoch 77/100\n",
      "50000/50000 [==============================] - 10s 194us/step - loss: 0.0596 - acc: 0.9810 - val_loss: 3.1635 - val_acc: 0.5401\n",
      "Epoch 78/100\n",
      "50000/50000 [==============================] - 10s 191us/step - loss: 0.0615 - acc: 0.9803 - val_loss: 3.1048 - val_acc: 0.5350\n",
      "Epoch 79/100\n",
      "50000/50000 [==============================] - 10s 199us/step - loss: 0.0655 - acc: 0.9797 - val_loss: 2.9209 - val_acc: 0.5345\n",
      "Epoch 80/100\n",
      "50000/50000 [==============================] - 10s 197us/step - loss: 0.0593 - acc: 0.9820 - val_loss: 3.1575 - val_acc: 0.5467\n",
      "Epoch 81/100\n",
      "50000/50000 [==============================] - 10s 203us/step - loss: 0.0499 - acc: 0.9849 - val_loss: 3.2947 - val_acc: 0.5417\n",
      "Epoch 82/100\n",
      "50000/50000 [==============================] - 10s 207us/step - loss: 0.0608 - acc: 0.9811 - val_loss: 3.1848 - val_acc: 0.5458\n",
      "Epoch 83/100\n",
      "50000/50000 [==============================] - 10s 201us/step - loss: 0.0434 - acc: 0.9861 - val_loss: 3.2826 - val_acc: 0.5409\n",
      "Epoch 84/100\n",
      "50000/50000 [==============================] - 11s 216us/step - loss: 0.0639 - acc: 0.9808 - val_loss: 3.0837 - val_acc: 0.5376\n",
      "Epoch 85/100\n",
      "50000/50000 [==============================] - 10s 210us/step - loss: 0.0592 - acc: 0.9822 - val_loss: 3.4090 - val_acc: 0.5433\n",
      "Epoch 86/100\n",
      "50000/50000 [==============================] - 11s 211us/step - loss: 0.0532 - acc: 0.9837 - val_loss: 3.1703 - val_acc: 0.5401\n",
      "Epoch 87/100\n",
      "50000/50000 [==============================] - 10s 208us/step - loss: 0.0546 - acc: 0.9829 - val_loss: 3.1625 - val_acc: 0.5399\n",
      "Epoch 88/100\n",
      "50000/50000 [==============================] - 11s 211us/step - loss: 0.0613 - acc: 0.9815 - val_loss: 3.0690 - val_acc: 0.5415\n",
      "Epoch 89/100\n",
      "50000/50000 [==============================] - 11s 211us/step - loss: 0.0458 - acc: 0.9852 - val_loss: 3.3026 - val_acc: 0.5380\n",
      "Epoch 90/100\n",
      "50000/50000 [==============================] - 11s 214us/step - loss: 0.0564 - acc: 0.9820 - val_loss: 3.2413 - val_acc: 0.5457\n",
      "Epoch 91/100\n",
      "50000/50000 [==============================] - 11s 216us/step - loss: 0.0457 - acc: 0.9859 - val_loss: 3.4057 - val_acc: 0.5379\n",
      "Epoch 92/100\n",
      "50000/50000 [==============================] - 11s 217us/step - loss: 0.0476 - acc: 0.9846 - val_loss: 3.4350 - val_acc: 0.5367\n",
      "Epoch 93/100\n",
      "50000/50000 [==============================] - 11s 217us/step - loss: 0.0520 - acc: 0.9832 - val_loss: 3.5425 - val_acc: 0.5375\n",
      "Epoch 94/100\n",
      "50000/50000 [==============================] - 11s 219us/step - loss: 0.0533 - acc: 0.9829 - val_loss: 3.2156 - val_acc: 0.5433\n",
      "Epoch 95/100\n",
      "50000/50000 [==============================] - 11s 218us/step - loss: 0.0494 - acc: 0.9844 - val_loss: 3.3563 - val_acc: 0.5361\n",
      "Epoch 96/100\n",
      "50000/50000 [==============================] - 11s 217us/step - loss: 0.0606 - acc: 0.9815 - val_loss: 3.3079 - val_acc: 0.5295\n",
      "Epoch 97/100\n",
      "50000/50000 [==============================] - 11s 218us/step - loss: 0.0535 - acc: 0.9833 - val_loss: 3.1838 - val_acc: 0.5446\n",
      "Epoch 98/100\n",
      "50000/50000 [==============================] - 11s 218us/step - loss: 0.0435 - acc: 0.9862 - val_loss: 3.3079 - val_acc: 0.5400\n",
      "Epoch 99/100\n",
      "50000/50000 [==============================] - 12s 231us/step - loss: 0.0498 - acc: 0.9848 - val_loss: 3.2133 - val_acc: 0.5382\n",
      "Epoch 100/100\n",
      "50000/50000 [==============================] - 11s 225us/step - loss: 0.0520 - acc: 0.9843 - val_loss: 3.1692 - val_acc: 0.5387\n"
     ]
    },
    {
     "data": {
      "text/plain": [
       "<keras.callbacks.History at 0xb410312b0>"
      ]
     },
     "execution_count": 26,
     "metadata": {},
     "output_type": "execute_result"
    }
   ],
   "source": [
    "model.fit(x_train, y_train, \n",
    "          epochs=EPOCHS, \n",
    "          batch_size=BATCH_SIZE, \n",
    "          validation_data=(x_test, y_test), \n",
    "          shuffle=True)"
   ]
  },
  {
   "cell_type": "code",
   "execution_count": 28,
   "metadata": {},
   "outputs": [
    {
     "data": {
      "image/png": "[encoded data removed]",
      "text/plain": [
       "<Figure size 432x288 with 1 Axes>"
      ]
     },
     "metadata": {
      "needs_background": "light"
     },
     "output_type": "display_data"
    },
    {
     "data": {
      "image/png": "[encoded data removed]",
      "text/plain": [
       "<Figure size 432x288 with 1 Axes>"
      ]
     },
     "metadata": {
      "needs_background": "light"
     },
     "output_type": "display_data"
    }
   ],
   "source": [
    "import matplotlib.pyplot as plt\n",
    "\n",
    "train_loss = model.history.history[\"loss\"]\n",
    "valid_loss = model.history.history[\"val_loss\"]\n",
    "\n",
    "train_acc = model.history.history[\"acc\"]\n",
    "valid_acc = model.history.history[\"val_acc\"]\n",
    "\n",
    "plt.plot(range(len(train_loss)), train_loss, label=\"train loss\")\n",
    "plt.plot(range(len(valid_loss)), valid_loss, label=\"valid loss\")\n",
    "plt.legend()\n",
    "plt.title(\"Loss\")\n",
    "plt.show()\n",
    "\n",
    "plt.plot(range(len(train_acc)), train_acc, label=\"train accuracy\")\n",
    "plt.plot(range(len(valid_acc)), valid_acc, label=\"valid accuracy\")\n",
    "plt.legend()\n",
    "plt.title(\"Accuracy\")\n",
    "plt.show()"
   ]
  },
  {
   "cell_type": "code",
   "execution_count": null,
   "metadata": {},
   "outputs": [],
   "source": []
  }
 ],
 "metadata": {
  "kernelspec": {
   "display_name": "Python 3",
   "language": "python",
   "name": "python3"
  },
  "language_info": {
   "codemirror_mode": {
    "name": "ipython",
    "version": 3
   },
   "file_extension": ".py",
   "mimetype": "text/x-python",
   "name": "python",
   "nbconvert_exporter": "python",
   "pygments_lexer": "ipython3",
   "version": "3.7.3"
  }
 },
 "nbformat": 4,
 "nbformat_minor": 2
}
