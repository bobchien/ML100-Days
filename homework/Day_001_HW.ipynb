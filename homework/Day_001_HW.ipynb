{
 "cells": [
  {
   "cell_type": "markdown",
   "metadata": {},
   "source": [
    "## 作業1\n",
    "\n",
    "請上 Kaggle, 在 Competitions 或 Dataset 中找一組競賽或資料\n",
    "\n",
    "Bike Sharing Demand (Forecast use of a city bikeshare system)\n",
    "\n",
    "https://www.kaggle.com/c/bike-sharing-demand\n",
    "\n",
    "1.你選的這組資料為何重要\n",
    "\n",
    "　　共享自行車的實踐是近幾年國內綠色運輸模式的重大改變，最初就屬Youbike搶占先機，後續各個縣市亦有跟進引入共享自行車的相關設施。而在引進台灣之後，人們已然相當適應這樣的服務，而其作為大眾運輸網絡最後一哩路之定位，也對民眾從私有運具移轉至綠色運具的正向影響功不可沒。然而，撇除另外一種形式的共享自行車(O-Bike)，設有固定租賃站點(Kiosk Station)的Youbike就對設定最佳站點的位置考量相當重視。站點設置的良窳將會大大影響：(1)使用者的便利性、(2)營運者的維護性、(3)整體路網的整合性。因此，本組資料的重要性即是透過蒐集現有的使用者行為，能夠藉以做為未來站點設置的考量；同時，透過其記錄的騎乘行為，亦能作為市區旅運的參考依據，有其相當的重要性。\n",
    "\n",
    "2.資料從何而來 (tips: 譬如提供者是誰、以什麼方式蒐集)\n",
    "\n",
    "　　提供者是 Hadi Fanaee Tork；資料來源是 Capital Bikeshare 的公開網站；其蒐集資料的方式是透過自行車使用者實際上在自行車租賃站(Kiosk Station)的借還車數據紀錄（歷史數據）。 \n",
    "\n",
    "3.蒐集而來的資料型態為何\n",
    "\n",
    "　　屬結構化的表格資料。資料橫軸即是每個時刻（以小時為單位，從2011/1/20至2012/12/31的每個小時）；資料縱軸有季節、休假日或工作日、天氣、溫度、體感溫度、相對溼度、風速、是/否註冊的使用人數。至於每小時的租借次數，則是欲求的應變數。\n",
    "\n",
    "4.這組資料想解決的問題如何評估\n",
    "\n",
    "　　而在本組資料所欲解決的問題中，其關鍵的因素是上述縱軸資料對於每小時的租借次數（應變數）的相互關係，因此在此案例當中，透過先將離群值剔除後，可以統計方法衡量各個變量間的關係、變量與應變數的關係，藉以找出影響租借量的最大因子。"
   ]
  },
  {
   "cell_type": "markdown",
   "metadata": {},
   "source": [
    "## 作業2\n",
    "\n",
    "1.核心問題為何 (tips：如何定義 「提升業績 & 你的假設」)\n",
    "\n",
    "　　核心問題在於我所經營的車隊能夠為我獲得多少收益。而此問題的基本假設包含：「服務地點」設定在臺北市及新北市；「服務時間」設定為24小時；「付費方式」僅有電子支付；「駕駛資訊」必須事先登錄；「其他」為經營者可以監看車隊各車輛之位置、營業狀態（是否營業）。因此必須記錄目前車隊的運作模式與收益的歷史資料。\n",
    "\n",
    "2.資料從何而來 (tips：哪些資料可能會對你想問的問題產生影響 & 資料如何蒐集)\n",
    "\n",
    "　　影響車隊經營收益的主要因子，初步假設包含：\n",
    "(1) 時間（年、月、日、時）\n",
    "(2) 線上總服務車輛數\n",
    "(3) 最多服務車輛之行政區\n",
    "(4) 天氣（晴天、陰天、雨天）\n",
    "(5) 氣溫（攝氏度數）\n",
    "(6) 該小時中最多服務之車輛品牌\n",
    "(7) 該小時中平均服務之駕駛年齡\n",
    "　　其中，目標數值（應變數）的收益部分，透過電子支付方式，載客之後即可直接統計獲得；(1)資料為記錄資料的時間、(2)(3)(6)(7)可以透過車隊監看系統獲得、(4)(5)可以透過中央氣象局的網站獲得。\n",
    "\n",
    "3.蒐集而來的資料型態為何\n",
    "\n",
    "　　型態應為結構化的表格資料，橫軸為(1)、縱軸含括(2)~(7)以及獲益數值。\n",
    "\n",
    "4.你要回答的問題，其如何評估 (tips：你的假設如何驗證)\n",
    "\n",
    "　　剔除離群值之後，根據每個縱軸資料的變量，使用統計方法確認其對獲益數值的影響程度，排除沒有相關的變量；透過視覺化的方式找出影響獲益的因子，倘若特定車輛品牌會有較大的獲益數值，則後續將提供車隊相應品牌；行政區的部分考量不同地區的乘車需求可能不同，因此針對較高乘車需求的地方指派較多車輛進行服務。"
   ]
  },
  {
   "cell_type": "markdown",
   "metadata": {},
   "source": [
    "## 作業3：練習時間\n",
    "#### 請寫一個函式用來計算 Mean Square Error\n",
    "$ MSE = \\frac{1}{n}\\sum_{i=1}^{n}{(Y_i - \\hat{Y}_i)^2} $\n",
    "\n",
    "### Hint: [如何取平方](https://googoodesign.gitbooks.io/-ezpython/unit-1.html)"
   ]
  },
  {
   "cell_type": "code",
   "execution_count": 7,
   "metadata": {},
   "outputs": [],
   "source": [
    "import numpy as np\n",
    "import matplotlib.pyplot as plt"
   ]
  },
  {
   "cell_type": "code",
   "execution_count": 8,
   "metadata": {},
   "outputs": [],
   "source": [
    "def mean_absolute_error(y, yp):\n",
    "    \"\"\"\n",
    "    計算 MAE\n",
    "    Args:\n",
    "        - y: 實際值\n",
    "        - yp: 預測值\n",
    "    Return:\n",
    "        - mae: MAE\n",
    "    \"\"\"\n",
    "    mae = MAE = sum(abs(y - yp)) / len(y)\n",
    "    return mae"
   ]
  },
  {
   "cell_type": "code",
   "execution_count": 9,
   "metadata": {},
   "outputs": [],
   "source": [
    "def mean_squared_error(y, yp):\n",
    "    \"\"\"\n",
    "    計算 MAE\n",
    "    Args:\n",
    "        - y: 實際值\n",
    "        - yp: 預測值\n",
    "    Return:\n",
    "        - mse: MSE\n",
    "    \"\"\"\n",
    "    mse = MSE = sum(pow(y - yp, 2)) / len(y)\n",
    "    return mse"
   ]
  },
  {
   "cell_type": "code",
   "execution_count": 10,
   "metadata": {},
   "outputs": [
    {
     "data": {
      "image/png": "[encoded data removed]",
      "text/plain": [
       "<matplotlib.figure.Figure at 0x1af3bb83470>"
      ]
     },
     "metadata": {},
     "output_type": "display_data"
    }
   ],
   "source": [
    "w = 3\n",
    "b = 0.5\n",
    "\n",
    "x_lin = np.linspace(0, 100, 101)\n",
    "\n",
    "y = (x_lin + np.random.randn(101) * 5) * w + b\n",
    "\n",
    "plt.plot(x_lin, y, 'b.', label = 'data points')\n",
    "plt.title(\"Assume we have data points\")\n",
    "plt.legend(loc = 2)\n",
    "plt.show()"
   ]
  },
  {
   "cell_type": "code",
   "execution_count": 11,
   "metadata": {},
   "outputs": [
    {
     "data": {
      "image/png": "[encoded data removed]",
      "text/plain": [
       "<matplotlib.figure.Figure at 0x1af3bc52240>"
      ]
     },
     "metadata": {},
     "output_type": "display_data"
    }
   ],
   "source": [
    "y_hat = x_lin * w + b\n",
    "plt.plot(x_lin, y, 'b.', label = 'data')\n",
    "plt.plot(x_lin, y_hat, 'r-', label = 'prediction')\n",
    "plt.title(\"Assume we have data points (And the prediction)\")\n",
    "plt.legend(loc = 2)\n",
    "plt.show()"
   ]
  },
  {
   "cell_type": "code",
   "execution_count": 13,
   "metadata": {},
   "outputs": [
    {
     "name": "stdout",
     "output_type": "stream",
     "text": [
      "The Mean squared error is 294.310\n",
      "The Mean absolute error is 13.891\n"
     ]
    }
   ],
   "source": [
    "# 執行 Function, 確認有沒有正常執行\n",
    "MSE = mean_squared_error(y, y_hat)\n",
    "MAE = mean_absolute_error(y, y_hat)\n",
    "print(\"The Mean squared error is %.3f\" % (MSE))\n",
    "print(\"The Mean absolute error is %.3f\" % (MAE))"
   ]
  }
 ],
 "metadata": {
  "anaconda-cloud": {},
  "kernelspec": {
   "display_name": "Python 3",
   "language": "python",
   "name": "python3"
  },
  "language_info": {
   "codemirror_mode": {
    "name": "ipython",
    "version": 3
   },
   "file_extension": ".py",
   "mimetype": "text/x-python",
   "name": "python",
   "nbconvert_exporter": "python",
   "pygments_lexer": "ipython3",
   "version": "3.6.4"
  }
 },
 "nbformat": 4,
 "nbformat_minor": 1
}
