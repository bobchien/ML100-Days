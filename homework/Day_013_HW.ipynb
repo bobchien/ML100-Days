{
 "cells": [
  {
   "cell_type": "markdown",
   "metadata": {},
   "source": [
    "## 練習時間\n",
    "參考 Day 12 範例程式，離散化你覺得有興趣的欄位，並嘗試找出有趣的訊息"
   ]
  },
  {
   "cell_type": "code",
   "execution_count": 1,
   "metadata": {},
   "outputs": [],
   "source": [
    "# Import 需要的套件\n",
    "import os\n",
    "import numpy as np\n",
    "import pandas as pd\n",
    "\n",
    "import matplotlib.pyplot as plt\n",
    "%matplotlib inline"
   ]
  },
  {
   "cell_type": "markdown",
   "metadata": {},
   "source": [
    "### 之前做過的處理"
   ]
  },
  {
   "cell_type": "code",
   "execution_count": 2,
   "metadata": {},
   "outputs": [],
   "source": [
    "# 設定 data_path\n",
    "dir_data = './data/'\n",
    "f_app_train = os.path.join(dir_data, 'application_train.csv')\n",
    "f_app_test = os.path.join(dir_data, 'application_test.csv')\n",
    "\n",
    "app_train = pd.read_csv(f_app_train)\n",
    "app_test = pd.read_csv(f_app_test)\n",
    "\n",
    "from sklearn.preprocessing import LabelEncoder\n",
    "\n",
    "# Create a label encoder object\n",
    "le = LabelEncoder()\n",
    "le_count = 0\n",
    "\n",
    "# Iterate through the columns\n",
    "for col in app_train:\n",
    "    if app_train[col].dtype == 'object':\n",
    "        # If 2 or fewer unique categories\n",
    "        if len(list(app_train[col].unique())) <= 2:\n",
    "            # Train on the training data\n",
    "            le.fit(app_train[col])\n",
    "            # Transform both training and testing data\n",
    "            app_train[col] = le.transform(app_train[col])\n",
    "            app_test[col] = le.transform(app_test[col])\n",
    "            \n",
    "            # Keep track of how many columns were label encoded\n",
    "            le_count += 1\n",
    "            \n",
    "app_train = pd.get_dummies(app_train)\n",
    "app_test = pd.get_dummies(app_test)\n",
    "\n",
    "# Create an anomalous flag column\n",
    "app_train['DAYS_EMPLOYED_ANOM'] = app_train[\"DAYS_EMPLOYED\"] == 365243\n",
    "app_train['DAYS_EMPLOYED'].replace({365243: np.nan}, inplace = True)\n",
    "# also apply to testing dataset\n",
    "app_test['DAYS_EMPLOYED_ANOM'] = app_test[\"DAYS_EMPLOYED\"] == 365243\n",
    "app_test[\"DAYS_EMPLOYED\"].replace({365243: np.nan}, inplace = True)\n",
    "\n",
    "# absolute the value of DAYS_BIRTH\n",
    "app_train['DAYS_BIRTH'] = abs(app_train['DAYS_BIRTH'])\n",
    "app_test['DAYS_BIRTH'] = abs(app_test['DAYS_BIRTH'])"
   ]
  },
  {
   "cell_type": "code",
   "execution_count": 38,
   "metadata": {},
   "outputs": [
    {
     "name": "stdout",
     "output_type": "stream",
     "text": [
      "  DAYS_BIRTH_CUT  DAYS_BIRTH_YEAR\n",
      "0       (25, 30]             26.0\n",
      "1       (45, 50]             46.0\n",
      "2       (50, 55]             52.0\n",
      "3       (50, 55]             52.0\n",
      "4       (50, 55]             55.0 \n",
      "\n",
      "(35, 40]     42868\n",
      "(40, 45]     41406\n",
      "(30, 35]     39440\n",
      "(45, 50]     35135\n",
      "(50, 55]     34942\n",
      "(55, 60]     33120\n",
      "(25, 30]     32862\n",
      "(60, 65]     27476\n",
      "(20, 25]     12159\n",
      "(65, 70]      8103\n",
      "(5, 10]          0\n",
      "(10, 15]         0\n",
      "(15, 20]         0\n",
      "(95, 100]        0\n",
      "(90, 95]         0\n",
      "(70, 75]         0\n",
      "(75, 80]         0\n",
      "(80, 85]         0\n",
      "(85, 90]         0\n",
      "(0, 5]           0\n",
      "Name: DAYS_BIRTH_CUT, dtype: int64\n"
     ]
    },
    {
     "data": {
      "image/png": "[encoded data removed]",
      "text/plain": [
       "<matplotlib.figure.Figure at 0x12b07157208>"
      ]
     },
     "metadata": {},
     "output_type": "display_data"
    }
   ],
   "source": [
    "app_train['DAYS_BIRTH_YEAR'] = round(app_train['DAYS_BIRTH'] / 365)\n",
    "app_train['DAYS_BIRTH_CUT'] = pd.cut(app_train['DAYS_BIRTH'] / 365, range(0, 105, 5))\n",
    "print(app_train[['DAYS_BIRTH_CUT', 'DAYS_BIRTH_YEAR']].head(), '\\n')\n",
    "print(app_train['DAYS_BIRTH_CUT'].value_counts())\n",
    "\n",
    "plt.style.use('ggplot')\n",
    "plt.hist(app_train['DAYS_BIRTH_YEAR'], bins=len(list(app_train['DAYS_BIRTH_CUT'].unique())), edgecolor = 'k')\n",
    "plt.show()"
   ]
  },
  {
   "cell_type": "code",
   "execution_count": null,
   "metadata": {},
   "outputs": [],
   "source": []
  }
 ],
 "metadata": {
  "kernelspec": {
   "display_name": "Python [default]",
   "language": "python",
   "name": "python3"
  },
  "language_info": {
   "codemirror_mode": {
    "name": "ipython",
    "version": 3
   },
   "file_extension": ".py",
   "mimetype": "text/x-python",
   "name": "python",
   "nbconvert_exporter": "python",
   "pygments_lexer": "ipython3",
   "version": "3.6.4"
  }
 },
 "nbformat": 4,
 "nbformat_minor": 2
}
