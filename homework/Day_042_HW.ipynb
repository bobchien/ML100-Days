{
 "cells": [
  {
   "cell_type": "markdown",
   "metadata": {},
   "source": [
    "## 作業\n",
    "\n",
    "1. 試著調整 DecisionTreeClassifier(...) 中的參數，並觀察是否會改變結果？\n",
    "2. 改用其他資料集 (boston, wine)，並與回歸模型的結果進行比較"
   ]
  },
  {
   "cell_type": "code",
   "execution_count": 13,
   "metadata": {},
   "outputs": [],
   "source": [
    "from sklearn import datasets, linear_model, metrics\n",
    "\n",
    "# 如果是分類問題，請使用 DecisionTreeClassifier，若為回歸問題，請使用 DecisionTreeRegressor\n",
    "from sklearn.tree import DecisionTreeClassifier, DecisionTreeRegressor\n",
    "from sklearn.model_selection import train_test_split\n",
    "\n",
    "import numpy as np\n",
    "import matplotlib.pyplot as plt"
   ]
  },
  {
   "cell_type": "code",
   "execution_count": 14,
   "metadata": {},
   "outputs": [
    {
     "name": "stdout",
     "output_type": "stream",
     "text": [
      "Acuuracy:  0.9736842105263158 vs. 0.8947368421052632\n",
      "['sepal length (cm)', 'sepal width (cm)', 'petal length (cm)', 'petal width (cm)']\n",
      "Feature importance:  [0.         0.01796599 0.52229134 0.45974266] vs. [0.01838328 0.06305398 0.         0.91856273]\n"
     ]
    }
   ],
   "source": [
    "### 1. 試著調整 DecisionTreeClassifier(...) 中的參數，並觀察是否會改變結果？\n",
    "\n",
    "# 讀取鳶尾花資料集\n",
    "iris = datasets.load_iris()\n",
    "# 切分訓練集/測試集\n",
    "x_train, x_test, y_train, y_test = train_test_split(iris.data, iris.target, test_size=0.25, random_state=4)\n",
    "# 建立模型\n",
    "clf_1 = DecisionTreeClassifier(criterion='gini')\n",
    "clf_2 = DecisionTreeClassifier(criterion='entropy', splitter=\"random\")\n",
    "# 訓練模型\n",
    "clf_1.fit(x_train, y_train)\n",
    "clf_2.fit(x_train, y_train)\n",
    "# 預測測試集\n",
    "y_pred_1 = clf_1.predict(x_test)\n",
    "y_pred_2 = clf_2.predict(x_test)\n",
    "\n",
    "acc_1 = metrics.accuracy_score(y_test, y_pred_1)\n",
    "acc_2 = metrics.accuracy_score(y_test, y_pred_2)\n",
    "print(\"Acuuracy: \", acc_1, \"vs.\", acc_2)\n",
    "print(iris.feature_names)\n",
    "print(\"Feature importance: \", clf_1.feature_importances_, \"vs.\", clf_2.feature_importances_)"
   ]
  },
  {
   "cell_type": "code",
   "execution_count": 15,
   "metadata": {},
   "outputs": [
    {
     "name": "stdout",
     "output_type": "stream",
     "text": [
      "Accuracy of Logistic Regression:  1.0\n",
      "Accuracy of Decision Tree:  0.9555555555555556\n"
     ]
    }
   ],
   "source": [
    "### 2. 改用其他資料集 (boston, wine)，並與回歸模型的結果進行比較\n",
    "\n",
    "wine = datasets.load_wine()\n",
    "X = wine.data\n",
    "y = wine.target\n",
    "x_train, x_test, y_train, y_test = train_test_split(X, y, test_size = 0.25, random_state = 42)\n",
    "\n",
    "# 羅吉斯迴歸(分類)\n",
    "regr = linear_model.LogisticRegression()\n",
    "regr.fit(x_train, y_train)\n",
    "y_pred_L = regr.predict(x_test)\n",
    "\n",
    "# 決策樹)分類)\n",
    "clf = DecisionTreeClassifier(criterion='gini')\n",
    "clf.fit(x_train, y_train)\n",
    "y_pred_T = clf.predict(x_test)\n",
    "\n",
    "acc_L = metrics.accuracy_score(y_test, y_pred_L)\n",
    "acc_T = metrics.accuracy_score(y_test, y_pred_T)\n",
    "\n",
    "print(\"Accuracy of Logistic Regression: \", acc_L)\n",
    "print(\"Accuracy of Decision Tree: \", acc_T)"
   ]
  },
  {
   "cell_type": "code",
   "execution_count": null,
   "metadata": {},
   "outputs": [],
   "source": []
  }
 ],
 "metadata": {
  "kernelspec": {
   "display_name": "Python [default]",
   "language": "python",
   "name": "python3"
  },
  "language_info": {
   "codemirror_mode": {
    "name": "ipython",
    "version": 3
   },
   "file_extension": ".py",
   "mimetype": "text/x-python",
   "name": "python",
   "nbconvert_exporter": "python",
   "pygments_lexer": "ipython3",
   "version": "3.6.4"
  }
 },
 "nbformat": 4,
 "nbformat_minor": 2
}
